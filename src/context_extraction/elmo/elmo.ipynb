{
 "nbformat": 4,
 "nbformat_minor": 0,
 "metadata": {
  "colab": {
   "name": "elmo.ipynb",
   "provenance": [],
   "collapsed_sections": []
  },
  "kernelspec": {
   "name": "python3",
   "display_name": "Python 3"
  },
  "language_info": {
   "name": "python"
  }
 },
 "cells": [
  {
   "cell_type": "code",
   "execution_count": null,
   "metadata": {
    "id": "5kqcqtOJMWfW"
   },
   "outputs": [],
   "source": [
    "!pip install torch==0.4.1 -f https://download.pytorch.org/whl/torch_stable.html\n",
    "!pip install allennlp==0.8.5\n",
    "!pip install keras==2.2.1"
   ]
  },
  {
   "cell_type": "code",
   "source": [
    "!pip3 install overrides==4.0.0"
   ],
   "metadata": {
    "id": "jxRCGxxXQRvA"
   },
   "execution_count": null,
   "outputs": []
  },
  {
   "cell_type": "code",
   "source": [
    "!python elmo_vis.py"
   ],
   "metadata": {
    "id": "ioUKzZ_QPUJ9"
   },
   "execution_count": null,
   "outputs": []
  },
  {
   "cell_type": "code",
   "source": [
    "!pip install scikit-learn==0.21"
   ],
   "metadata": {
    "id": "Ay6UTt_zQKc2"
   },
   "execution_count": null,
   "outputs": []
  }
 ]
}